{
  "nbformat": 4,
  "nbformat_minor": 0,
  "metadata": {
    "colab": {
      "name": "Lab5.ipynb",
      "provenance": [],
      "collapsed_sections": [],
      "authorship_tag": "ABX9TyPd2vz51SF+0EPxugqipC7F",
      "include_colab_link": true
    },
    "kernelspec": {
      "name": "python3",
      "display_name": "Python 3"
    },
    "language_info": {
      "name": "python"
    }
  },
  "cells": [
    {
      "cell_type": "markdown",
      "metadata": {
        "id": "view-in-github",
        "colab_type": "text"
      },
      "source": [
        "<a href=\"https://colab.research.google.com/github/navneetk2001/Machine-Learning/blob/master/Linear%20Regression_ML_Assignment.ipynb\" target=\"_parent\"><img src=\"https://colab.research.google.com/assets/colab-badge.svg\" alt=\"Open In Colab\"/></a>"
      ]
    },
    {
      "cell_type": "markdown",
      "metadata": {
        "id": "gviuVGTP57tD"
      },
      "source": [
        "# Name :- Navneet Kumar\n",
        "# Roll No :- 102083053\n",
        "# Group :- 3COE-24"
      ]
    },
    {
      "cell_type": "markdown",
      "metadata": {
        "id": "IVJUCA1x6OK9"
      },
      "source": [
        "# **Machine Learning :- Assignment 5**"
      ]
    },
    {
      "cell_type": "markdown",
      "metadata": {
        "id": "6lOZ_fy7e64P"
      },
      "source": [
        "**Question** **1 (Simple Linear Regression) :-**"
      ]
    },
    {
      "cell_type": "markdown",
      "metadata": {
        "id": "gRp5bBEN6fJ4"
      },
      "source": [
        "Q1) Implement the Simple Linear Regression for the data given below and predict the house price for a house with plot size 3000, 2000 and 1500 feet:-"
      ]
    },
    {
      "cell_type": "code",
      "metadata": {
        "id": "OVkmtzSdZR7w"
      },
      "source": [
        "import pandas as pd\n",
        "import numpy as np"
      ],
      "execution_count": 1,
      "outputs": []
    },
    {
      "cell_type": "code",
      "metadata": {
        "colab": {
          "base_uri": "https://localhost:8080/",
          "height": 0
        },
        "id": "PnblJi2rZUUs",
        "outputId": "dac9eea9-db23-4dbd-c4ff-28c977f4af7e"
      },
      "source": [
        "# mounting Google Drive\n",
        "from google.colab import drive\n",
        "drive.mount('/content/drive')\n"
      ],
      "execution_count": 15,
      "outputs": [
        {
          "output_type": "stream",
          "name": "stdout",
          "text": [
            "Mounted at /content/drive\n"
          ]
        }
      ]
    },
    {
      "cell_type": "code",
      "metadata": {
        "colab": {
          "base_uri": "https://localhost:8080/",
          "height": 0
        },
        "id": "6m9ovhqXZs5M",
        "outputId": "18ba4a69-224a-43a2-92b0-0a9cefd22afd"
      },
      "source": [
        "#importing dataset\n",
        "df = pd.read_csv(\"drive/MyDrive/Colab Notebooks/CSV/Assignment_5 Part_1_Data.csv\")\n",
        "print(df)"
      ],
      "execution_count": 52,
      "outputs": [
        {
          "output_type": "stream",
          "name": "stdout",
          "text": [
            "   House Price in $1000s (X)  Square feet (Y)\n",
            "0                        245             1400\n",
            "1                        312             1600\n",
            "2                        279             1700\n",
            "3                        308             1875\n",
            "4                        199             1100\n",
            "5                        219             1550\n",
            "6                        405             2350\n",
            "7                        324             2450\n",
            "8                        319             1425\n",
            "9                        255             1700\n"
          ]
        }
      ]
    },
    {
      "cell_type": "code",
      "metadata": {
        "colab": {
          "base_uri": "https://localhost:8080/",
          "height": 0
        },
        "id": "hLuCbNqzdliI",
        "outputId": "0defeef8-d99f-492a-a0e3-1ed155ce5da8"
      },
      "source": [
        "#splitting dataset in x and y and converting 1 d array to 2d array using reshape function\n",
        "x = np.array(df['Square feet (Y)']).reshape((-1, 1)) \n",
        "print(x)\n",
        "y = np.array(df['House Price in $1000s (X)'])\n",
        "print(y)"
      ],
      "execution_count": 54,
      "outputs": [
        {
          "output_type": "stream",
          "name": "stdout",
          "text": [
            "[[1400]\n",
            " [1600]\n",
            " [1700]\n",
            " [1875]\n",
            " [1100]\n",
            " [1550]\n",
            " [2350]\n",
            " [2450]\n",
            " [1425]\n",
            " [1700]]\n",
            "[245 312 279 308 199 219 405 324 319 255]\n"
          ]
        }
      ]
    },
    {
      "cell_type": "code",
      "metadata": {
        "colab": {
          "base_uri": "https://localhost:8080/",
          "height": 0
        },
        "id": "cPZeEtCOfcXv",
        "outputId": "a7533487-b564-48ee-9603-ee614f3cbb9f"
      },
      "source": [
        "#importing Linear Regression module for analysis\n",
        "from sklearn.linear_model import LinearRegression\n",
        "algo = LinearRegression()\n",
        "algo.fit(x, y)"
      ],
      "execution_count": 55,
      "outputs": [
        {
          "output_type": "execute_result",
          "data": {
            "text/plain": [
              "LinearRegression(copy_X=True, fit_intercept=True, n_jobs=None, normalize=False)"
            ]
          },
          "metadata": {},
          "execution_count": 55
        }
      ]
    },
    {
      "cell_type": "code",
      "metadata": {
        "colab": {
          "base_uri": "https://localhost:8080/",
          "height": 0
        },
        "id": "Y6f0jPUvfknk",
        "outputId": "e69e00f9-e398-4a3c-ba63-5faa39a634ef"
      },
      "source": [
        "# Calculating coefficient of determination for training data x and y\n",
        "COD = algo.score(x, y)\n",
        "print('Coefficient of Determination:', COD) "
      ],
      "execution_count": 56,
      "outputs": [
        {
          "output_type": "stream",
          "name": "stdout",
          "text": [
            "Coefficient of Determination: 0.5808173118722721\n"
          ]
        }
      ]
    },
    {
      "cell_type": "code",
      "metadata": {
        "colab": {
          "base_uri": "https://localhost:8080/",
          "height": 0
        },
        "id": "QdM5wGjffsNB",
        "outputId": "ba7f109f-08a3-4d4a-8fda-998af6621544"
      },
      "source": [
        "print('Intercept:', algo.intercept_)              # It will give value of intercept (c) in y = m*x + c\n",
        "print('Slope:', algo.coef_)                       # It will give value of slope (m) in y = m*x + c"
      ],
      "execution_count": 57,
      "outputs": [
        {
          "output_type": "stream",
          "name": "stdout",
          "text": [
            "Intercept: 98.24832962138078\n",
            "Slope: [0.10976774]\n"
          ]
        }
      ]
    },
    {
      "cell_type": "code",
      "metadata": {
        "colab": {
          "base_uri": "https://localhost:8080/",
          "height": 0
        },
        "id": "RF3AkPkUf3Uf",
        "outputId": "a6227f1e-1256-43c6-d25c-1e1e127a72d6"
      },
      "source": [
        "# predicted result of above given training data\n",
        "y_predicted = algo.predict(x)\n",
        "print('predicted result:', y_predicted, sep='\\n')"
      ],
      "execution_count": 58,
      "outputs": [
        {
          "output_type": "stream",
          "name": "stdout",
          "text": [
            "predicted result:\n",
            "[251.92316258 273.87671015 284.85348393 304.06283805 218.99284123\n",
            " 268.38832326 356.20251352 367.17928731 254.66735603 284.85348393]\n"
          ]
        }
      ]
    },
    {
      "cell_type": "code",
      "metadata": {
        "colab": {
          "base_uri": "https://localhost:8080/",
          "height": 0
        },
        "id": "97oY5n0CjKMx",
        "outputId": "09ac6e0a-c671-4e69-89cb-e0a41ddb515d"
      },
      "source": [
        "# New testing Data to predict the house price for a house with given plot size\n",
        "x_test = np.array([3000,2000,1500]).reshape((-1, 1))\n",
        "print(x_test)"
      ],
      "execution_count": 59,
      "outputs": [
        {
          "output_type": "stream",
          "name": "stdout",
          "text": [
            "[[3000]\n",
            " [2000]\n",
            " [1500]]\n"
          ]
        }
      ]
    },
    {
      "cell_type": "code",
      "metadata": {
        "colab": {
          "base_uri": "https://localhost:8080/",
          "height": 0
        },
        "id": "Tk6WQ4iwjsDf",
        "outputId": "de60b561-a41d-481b-d81d-9f3774746ed0"
      },
      "source": [
        "# predicted result of above given testing data  \n",
        "y_test = algo.predict(x_test)\n",
        "print(y_test)"
      ],
      "execution_count": 60,
      "outputs": [
        {
          "output_type": "stream",
          "name": "stdout",
          "text": [
            "[427.55154311 317.78380528 262.89993637]\n"
          ]
        }
      ]
    },
    {
      "cell_type": "code",
      "metadata": {
        "colab": {
          "base_uri": "https://localhost:8080/",
          "height": 0
        },
        "id": "i1vG3rJFj3SN",
        "outputId": "8534dd36-809c-4fc0-acfe-c29986792fcb"
      },
      "source": [
        "#performing the performance evaluation of the trained algorithm\n",
        "from sklearn import metrics\n",
        "print(metrics.mean_squared_error(y_predicted,y))\n",
        "print(metrics.mean_absolute_error(y_predicted,y))\n",
        "print(np.sqrt(metrics.mean_squared_error(y_predicted,y)))\n",
        "print(metrics.r2_score(y_predicted, y))"
      ],
      "execution_count": 61,
      "outputs": [
        {
          "output_type": "stream",
          "name": "stdout",
          "text": [
            "1366.5565224307989\n",
            "31.03811644925231\n",
            "36.96696528565469\n",
            "0.2782882335643776\n"
          ]
        }
      ]
    },
    {
      "cell_type": "code",
      "metadata": {
        "id": "4PBD2uIUlWSt"
      },
      "source": [
        ""
      ],
      "execution_count": null,
      "outputs": []
    },
    {
      "cell_type": "code",
      "metadata": {
        "id": "FsREUhiAluKe"
      },
      "source": [
        ""
      ],
      "execution_count": null,
      "outputs": []
    },
    {
      "cell_type": "markdown",
      "metadata": {
        "id": "EdYZg0JQl66K"
      },
      "source": [
        "**Question 2 (Multiple Linear Regression) :-**"
      ]
    },
    {
      "cell_type": "markdown",
      "metadata": {
        "id": "DzakJsLT6rRP"
      },
      "source": [
        "Q2) Implement the Multiple Linear Regression for the data given below and predict the stock index\n",
        "price if interest rate is 1.5 and unemployment rate is 5.8."
      ]
    },
    {
      "cell_type": "code",
      "metadata": {
        "colab": {
          "base_uri": "https://localhost:8080/",
          "height": 0
        },
        "id": "Yq-5Gw1Hl-_H",
        "outputId": "1a8a8f64-01c0-4ee2-d8d6-129e25e64b4c"
      },
      "source": [
        "#importing dataset\n",
        "df1 = pd.read_csv(\"drive/MyDrive/Colab Notebooks/CSV/Assignment_5 Part_2_Data.csv\")\n",
        "print(df1)"
      ],
      "execution_count": 66,
      "outputs": [
        {
          "output_type": "stream",
          "name": "stdout",
          "text": [
            "    Year  Month  Interest_Rate  Unemployment_Rate  Stock_Index_Price\n",
            "0   2017     12           2.75                5.3               1464\n",
            "1   2017     11           2.50                5.3               1394\n",
            "2   2017     10           2.50                5.3               1357\n",
            "3   2017      9           2.50                5.3               1293\n",
            "4   2017      8           2.50                5.4               1256\n",
            "5   2017      7           2.50                5.6               1254\n",
            "6   2017      6           2.50                5.5               1234\n",
            "7   2017      5           2.25                5.5               1195\n",
            "8   2017      4           2.25                5.5               1159\n",
            "9   2017      3           2.25                5.6               1167\n",
            "10  2017      2           2.00                5.7               1130\n",
            "11  2017      1           2.00                5.9               1075\n",
            "12  2016     12           2.00                6.0               1047\n",
            "13  2016     11           1.75                5.9                965\n",
            "14  2016     10           1.75                5.8                943\n",
            "15  2016      9           1.75                6.1                958\n",
            "16  2016      8           1.75                6.2                971\n",
            "17  2016      7           1.75                6.1                949\n",
            "18  2016      6           1.75                6.1                884\n",
            "19  2016      5           1.75                6.1                866\n",
            "20  2016      4           1.75                5.9                876\n",
            "21  2016      3           1.75                6.2                822\n",
            "22  2016      2           1.75                6.2                704\n",
            "23  2016      1           1.75                6.1                719\n"
          ]
        }
      ]
    },
    {
      "cell_type": "code",
      "metadata": {
        "colab": {
          "base_uri": "https://localhost:8080/",
          "height": 788
        },
        "id": "4vlgRX7mnou5",
        "outputId": "de5c37fa-3673-4de1-e24f-fae5c03dc89b"
      },
      "source": [
        "#splitting dataset in x by taking features required to predict stock price\n",
        "x=df1.iloc[:,2:4]\n",
        "x"
      ],
      "execution_count": 69,
      "outputs": [
        {
          "output_type": "execute_result",
          "data": {
            "text/html": [
              "<div>\n",
              "<style scoped>\n",
              "    .dataframe tbody tr th:only-of-type {\n",
              "        vertical-align: middle;\n",
              "    }\n",
              "\n",
              "    .dataframe tbody tr th {\n",
              "        vertical-align: top;\n",
              "    }\n",
              "\n",
              "    .dataframe thead th {\n",
              "        text-align: right;\n",
              "    }\n",
              "</style>\n",
              "<table border=\"1\" class=\"dataframe\">\n",
              "  <thead>\n",
              "    <tr style=\"text-align: right;\">\n",
              "      <th></th>\n",
              "      <th>Interest_Rate</th>\n",
              "      <th>Unemployment_Rate</th>\n",
              "    </tr>\n",
              "  </thead>\n",
              "  <tbody>\n",
              "    <tr>\n",
              "      <th>0</th>\n",
              "      <td>2.75</td>\n",
              "      <td>5.3</td>\n",
              "    </tr>\n",
              "    <tr>\n",
              "      <th>1</th>\n",
              "      <td>2.50</td>\n",
              "      <td>5.3</td>\n",
              "    </tr>\n",
              "    <tr>\n",
              "      <th>2</th>\n",
              "      <td>2.50</td>\n",
              "      <td>5.3</td>\n",
              "    </tr>\n",
              "    <tr>\n",
              "      <th>3</th>\n",
              "      <td>2.50</td>\n",
              "      <td>5.3</td>\n",
              "    </tr>\n",
              "    <tr>\n",
              "      <th>4</th>\n",
              "      <td>2.50</td>\n",
              "      <td>5.4</td>\n",
              "    </tr>\n",
              "    <tr>\n",
              "      <th>5</th>\n",
              "      <td>2.50</td>\n",
              "      <td>5.6</td>\n",
              "    </tr>\n",
              "    <tr>\n",
              "      <th>6</th>\n",
              "      <td>2.50</td>\n",
              "      <td>5.5</td>\n",
              "    </tr>\n",
              "    <tr>\n",
              "      <th>7</th>\n",
              "      <td>2.25</td>\n",
              "      <td>5.5</td>\n",
              "    </tr>\n",
              "    <tr>\n",
              "      <th>8</th>\n",
              "      <td>2.25</td>\n",
              "      <td>5.5</td>\n",
              "    </tr>\n",
              "    <tr>\n",
              "      <th>9</th>\n",
              "      <td>2.25</td>\n",
              "      <td>5.6</td>\n",
              "    </tr>\n",
              "    <tr>\n",
              "      <th>10</th>\n",
              "      <td>2.00</td>\n",
              "      <td>5.7</td>\n",
              "    </tr>\n",
              "    <tr>\n",
              "      <th>11</th>\n",
              "      <td>2.00</td>\n",
              "      <td>5.9</td>\n",
              "    </tr>\n",
              "    <tr>\n",
              "      <th>12</th>\n",
              "      <td>2.00</td>\n",
              "      <td>6.0</td>\n",
              "    </tr>\n",
              "    <tr>\n",
              "      <th>13</th>\n",
              "      <td>1.75</td>\n",
              "      <td>5.9</td>\n",
              "    </tr>\n",
              "    <tr>\n",
              "      <th>14</th>\n",
              "      <td>1.75</td>\n",
              "      <td>5.8</td>\n",
              "    </tr>\n",
              "    <tr>\n",
              "      <th>15</th>\n",
              "      <td>1.75</td>\n",
              "      <td>6.1</td>\n",
              "    </tr>\n",
              "    <tr>\n",
              "      <th>16</th>\n",
              "      <td>1.75</td>\n",
              "      <td>6.2</td>\n",
              "    </tr>\n",
              "    <tr>\n",
              "      <th>17</th>\n",
              "      <td>1.75</td>\n",
              "      <td>6.1</td>\n",
              "    </tr>\n",
              "    <tr>\n",
              "      <th>18</th>\n",
              "      <td>1.75</td>\n",
              "      <td>6.1</td>\n",
              "    </tr>\n",
              "    <tr>\n",
              "      <th>19</th>\n",
              "      <td>1.75</td>\n",
              "      <td>6.1</td>\n",
              "    </tr>\n",
              "    <tr>\n",
              "      <th>20</th>\n",
              "      <td>1.75</td>\n",
              "      <td>5.9</td>\n",
              "    </tr>\n",
              "    <tr>\n",
              "      <th>21</th>\n",
              "      <td>1.75</td>\n",
              "      <td>6.2</td>\n",
              "    </tr>\n",
              "    <tr>\n",
              "      <th>22</th>\n",
              "      <td>1.75</td>\n",
              "      <td>6.2</td>\n",
              "    </tr>\n",
              "    <tr>\n",
              "      <th>23</th>\n",
              "      <td>1.75</td>\n",
              "      <td>6.1</td>\n",
              "    </tr>\n",
              "  </tbody>\n",
              "</table>\n",
              "</div>"
            ],
            "text/plain": [
              "    Interest_Rate  Unemployment_Rate\n",
              "0            2.75                5.3\n",
              "1            2.50                5.3\n",
              "2            2.50                5.3\n",
              "3            2.50                5.3\n",
              "4            2.50                5.4\n",
              "5            2.50                5.6\n",
              "6            2.50                5.5\n",
              "7            2.25                5.5\n",
              "8            2.25                5.5\n",
              "9            2.25                5.6\n",
              "10           2.00                5.7\n",
              "11           2.00                5.9\n",
              "12           2.00                6.0\n",
              "13           1.75                5.9\n",
              "14           1.75                5.8\n",
              "15           1.75                6.1\n",
              "16           1.75                6.2\n",
              "17           1.75                6.1\n",
              "18           1.75                6.1\n",
              "19           1.75                6.1\n",
              "20           1.75                5.9\n",
              "21           1.75                6.2\n",
              "22           1.75                6.2\n",
              "23           1.75                6.1"
            ]
          },
          "metadata": {},
          "execution_count": 69
        }
      ]
    },
    {
      "cell_type": "code",
      "metadata": {
        "colab": {
          "base_uri": "https://localhost:8080/",
          "height": 788
        },
        "id": "2i5GoW2S34hC",
        "outputId": "0eeba581-16bb-423e-d1ef-19389f5d5b19"
      },
      "source": [
        "#splitting dataset in y\n",
        "y=pd.DataFrame(df1.iloc[:,4])\n",
        "y"
      ],
      "execution_count": 71,
      "outputs": [
        {
          "output_type": "execute_result",
          "data": {
            "text/html": [
              "<div>\n",
              "<style scoped>\n",
              "    .dataframe tbody tr th:only-of-type {\n",
              "        vertical-align: middle;\n",
              "    }\n",
              "\n",
              "    .dataframe tbody tr th {\n",
              "        vertical-align: top;\n",
              "    }\n",
              "\n",
              "    .dataframe thead th {\n",
              "        text-align: right;\n",
              "    }\n",
              "</style>\n",
              "<table border=\"1\" class=\"dataframe\">\n",
              "  <thead>\n",
              "    <tr style=\"text-align: right;\">\n",
              "      <th></th>\n",
              "      <th>Stock_Index_Price</th>\n",
              "    </tr>\n",
              "  </thead>\n",
              "  <tbody>\n",
              "    <tr>\n",
              "      <th>0</th>\n",
              "      <td>1464</td>\n",
              "    </tr>\n",
              "    <tr>\n",
              "      <th>1</th>\n",
              "      <td>1394</td>\n",
              "    </tr>\n",
              "    <tr>\n",
              "      <th>2</th>\n",
              "      <td>1357</td>\n",
              "    </tr>\n",
              "    <tr>\n",
              "      <th>3</th>\n",
              "      <td>1293</td>\n",
              "    </tr>\n",
              "    <tr>\n",
              "      <th>4</th>\n",
              "      <td>1256</td>\n",
              "    </tr>\n",
              "    <tr>\n",
              "      <th>5</th>\n",
              "      <td>1254</td>\n",
              "    </tr>\n",
              "    <tr>\n",
              "      <th>6</th>\n",
              "      <td>1234</td>\n",
              "    </tr>\n",
              "    <tr>\n",
              "      <th>7</th>\n",
              "      <td>1195</td>\n",
              "    </tr>\n",
              "    <tr>\n",
              "      <th>8</th>\n",
              "      <td>1159</td>\n",
              "    </tr>\n",
              "    <tr>\n",
              "      <th>9</th>\n",
              "      <td>1167</td>\n",
              "    </tr>\n",
              "    <tr>\n",
              "      <th>10</th>\n",
              "      <td>1130</td>\n",
              "    </tr>\n",
              "    <tr>\n",
              "      <th>11</th>\n",
              "      <td>1075</td>\n",
              "    </tr>\n",
              "    <tr>\n",
              "      <th>12</th>\n",
              "      <td>1047</td>\n",
              "    </tr>\n",
              "    <tr>\n",
              "      <th>13</th>\n",
              "      <td>965</td>\n",
              "    </tr>\n",
              "    <tr>\n",
              "      <th>14</th>\n",
              "      <td>943</td>\n",
              "    </tr>\n",
              "    <tr>\n",
              "      <th>15</th>\n",
              "      <td>958</td>\n",
              "    </tr>\n",
              "    <tr>\n",
              "      <th>16</th>\n",
              "      <td>971</td>\n",
              "    </tr>\n",
              "    <tr>\n",
              "      <th>17</th>\n",
              "      <td>949</td>\n",
              "    </tr>\n",
              "    <tr>\n",
              "      <th>18</th>\n",
              "      <td>884</td>\n",
              "    </tr>\n",
              "    <tr>\n",
              "      <th>19</th>\n",
              "      <td>866</td>\n",
              "    </tr>\n",
              "    <tr>\n",
              "      <th>20</th>\n",
              "      <td>876</td>\n",
              "    </tr>\n",
              "    <tr>\n",
              "      <th>21</th>\n",
              "      <td>822</td>\n",
              "    </tr>\n",
              "    <tr>\n",
              "      <th>22</th>\n",
              "      <td>704</td>\n",
              "    </tr>\n",
              "    <tr>\n",
              "      <th>23</th>\n",
              "      <td>719</td>\n",
              "    </tr>\n",
              "  </tbody>\n",
              "</table>\n",
              "</div>"
            ],
            "text/plain": [
              "    Stock_Index_Price\n",
              "0                1464\n",
              "1                1394\n",
              "2                1357\n",
              "3                1293\n",
              "4                1256\n",
              "5                1254\n",
              "6                1234\n",
              "7                1195\n",
              "8                1159\n",
              "9                1167\n",
              "10               1130\n",
              "11               1075\n",
              "12               1047\n",
              "13                965\n",
              "14                943\n",
              "15                958\n",
              "16                971\n",
              "17                949\n",
              "18                884\n",
              "19                866\n",
              "20                876\n",
              "21                822\n",
              "22                704\n",
              "23                719"
            ]
          },
          "metadata": {},
          "execution_count": 71
        }
      ]
    },
    {
      "cell_type": "code",
      "metadata": {
        "colab": {
          "base_uri": "https://localhost:8080/",
          "height": 0
        },
        "id": "78g2CrQnns2a",
        "outputId": "22754736-0c48-47fb-fb63-96ed397df411"
      },
      "source": [
        "#Loading Linear Regression model for analysis of data\n",
        "algo1 = LinearRegression()\n",
        "algo1.fit(x, y)"
      ],
      "execution_count": 72,
      "outputs": [
        {
          "output_type": "execute_result",
          "data": {
            "text/plain": [
              "LinearRegression(copy_X=True, fit_intercept=True, n_jobs=None, normalize=False)"
            ]
          },
          "metadata": {},
          "execution_count": 72
        }
      ]
    },
    {
      "cell_type": "code",
      "metadata": {
        "colab": {
          "base_uri": "https://localhost:8080/",
          "height": 0
        },
        "id": "OWsjMKKenyvs",
        "outputId": "6b783de7-3baf-435e-b73d-f7fc08db75cb"
      },
      "source": [
        "COD = algo1.score(x, y)\n",
        "print('Coefficient of Determination:', COD)              # Calculating coefficient of determination for training data x and y\n",
        "print('Intercept:', algo1.intercept_)                    # Value of Intercept (c) in y = m1*x1 + m2*x2 + c\n",
        "print('Slope:', algo1.coef_)                             # Slope (Coefficient) of both the features i.e. m1 of x1 and m2 of x2 in y = m1*x1 + m2*x2 + c"
      ],
      "execution_count": 73,
      "outputs": [
        {
          "output_type": "stream",
          "name": "stdout",
          "text": [
            "Coefficient of Determination: 0.8976335894170216\n",
            "Intercept: [1798.40397763]\n",
            "Slope: [[ 345.54008701 -250.14657137]]\n"
          ]
        }
      ]
    },
    {
      "cell_type": "code",
      "metadata": {
        "colab": {
          "base_uri": "https://localhost:8080/",
          "height": 0
        },
        "id": "FJXpY3mEnzf6",
        "outputId": "ae935c0f-55c4-4376-fd81-4d3be386145c"
      },
      "source": [
        "# predicted result (stock price) of above given training data\n",
        "y_predicted = algo1.predict(x)\n",
        "print('predicted result:', y_predicted, sep='\\n')"
      ],
      "execution_count": 74,
      "outputs": [
        {
          "output_type": "stream",
          "name": "stdout",
          "text": [
            "predicted result:\n",
            "[[1422.86238865]\n",
            " [1336.47736689]\n",
            " [1336.47736689]\n",
            " [1336.47736689]\n",
            " [1311.46270976]\n",
            " [1261.43339548]\n",
            " [1286.44805262]\n",
            " [1200.06303087]\n",
            " [1200.06303087]\n",
            " [1175.04837373]\n",
            " [1063.64869484]\n",
            " [1013.61938057]\n",
            " [ 988.60472343]\n",
            " [ 927.23435881]\n",
            " [ 952.24901595]\n",
            " [ 877.20504454]\n",
            " [ 852.1903874 ]\n",
            " [ 877.20504454]\n",
            " [ 877.20504454]\n",
            " [ 877.20504454]\n",
            " [ 927.23435881]\n",
            " [ 852.1903874 ]\n",
            " [ 852.1903874 ]\n",
            " [ 877.20504454]]\n"
          ]
        }
      ]
    },
    {
      "cell_type": "code",
      "metadata": {
        "colab": {
          "base_uri": "https://localhost:8080/",
          "height": 80
        },
        "id": "OOwxmsNf4pGP",
        "outputId": "475c5d32-4ed1-4126-eb73-c0f216fda20a"
      },
      "source": [
        "# New testing Data to predict the stock price for given data\n",
        "x_test=pd.DataFrame(np.array([1.5,5.8]).reshape(1,2),columns=[\"Interest_Rate\",\"Unemployment_Rate\"])\n",
        "x_test"
      ],
      "execution_count": 76,
      "outputs": [
        {
          "output_type": "execute_result",
          "data": {
            "text/html": [
              "<div>\n",
              "<style scoped>\n",
              "    .dataframe tbody tr th:only-of-type {\n",
              "        vertical-align: middle;\n",
              "    }\n",
              "\n",
              "    .dataframe tbody tr th {\n",
              "        vertical-align: top;\n",
              "    }\n",
              "\n",
              "    .dataframe thead th {\n",
              "        text-align: right;\n",
              "    }\n",
              "</style>\n",
              "<table border=\"1\" class=\"dataframe\">\n",
              "  <thead>\n",
              "    <tr style=\"text-align: right;\">\n",
              "      <th></th>\n",
              "      <th>Interest_Rate</th>\n",
              "      <th>Unemployment_Rate</th>\n",
              "    </tr>\n",
              "  </thead>\n",
              "  <tbody>\n",
              "    <tr>\n",
              "      <th>0</th>\n",
              "      <td>1.5</td>\n",
              "      <td>5.8</td>\n",
              "    </tr>\n",
              "  </tbody>\n",
              "</table>\n",
              "</div>"
            ],
            "text/plain": [
              "   Interest_Rate  Unemployment_Rate\n",
              "0            1.5                5.8"
            ]
          },
          "metadata": {},
          "execution_count": 76
        }
      ]
    },
    {
      "cell_type": "code",
      "metadata": {
        "colab": {
          "base_uri": "https://localhost:8080/",
          "height": 80
        },
        "id": "W1BmtIVl4sxm",
        "outputId": "266374e5-2a39-4c05-ceb7-ed7e01219994"
      },
      "source": [
        "# predicted result of above given testing data\n",
        "y_test=algo1.predict(x_test)\n",
        "result=pd.DataFrame(y_test,columns=['Stock_Index_Price'])\n",
        "result"
      ],
      "execution_count": 79,
      "outputs": [
        {
          "output_type": "execute_result",
          "data": {
            "text/html": [
              "<div>\n",
              "<style scoped>\n",
              "    .dataframe tbody tr th:only-of-type {\n",
              "        vertical-align: middle;\n",
              "    }\n",
              "\n",
              "    .dataframe tbody tr th {\n",
              "        vertical-align: top;\n",
              "    }\n",
              "\n",
              "    .dataframe thead th {\n",
              "        text-align: right;\n",
              "    }\n",
              "</style>\n",
              "<table border=\"1\" class=\"dataframe\">\n",
              "  <thead>\n",
              "    <tr style=\"text-align: right;\">\n",
              "      <th></th>\n",
              "      <th>Stock_Index_Price</th>\n",
              "    </tr>\n",
              "  </thead>\n",
              "  <tbody>\n",
              "    <tr>\n",
              "      <th>0</th>\n",
              "      <td>865.863994</td>\n",
              "    </tr>\n",
              "  </tbody>\n",
              "</table>\n",
              "</div>"
            ],
            "text/plain": [
              "   Stock_Index_Price\n",
              "0         865.863994"
            ]
          },
          "metadata": {},
          "execution_count": 79
        }
      ]
    },
    {
      "cell_type": "code",
      "metadata": {
        "colab": {
          "base_uri": "https://localhost:8080/",
          "height": 80
        },
        "id": "lTa1NCMs4xAA",
        "outputId": "b9f2cb2f-def8-4004-9218-86ef7d30e627"
      },
      "source": [
        "#final result\n",
        "pd.concat([x_test,result],axis=\"columns\")"
      ],
      "execution_count": 80,
      "outputs": [
        {
          "output_type": "execute_result",
          "data": {
            "text/html": [
              "<div>\n",
              "<style scoped>\n",
              "    .dataframe tbody tr th:only-of-type {\n",
              "        vertical-align: middle;\n",
              "    }\n",
              "\n",
              "    .dataframe tbody tr th {\n",
              "        vertical-align: top;\n",
              "    }\n",
              "\n",
              "    .dataframe thead th {\n",
              "        text-align: right;\n",
              "    }\n",
              "</style>\n",
              "<table border=\"1\" class=\"dataframe\">\n",
              "  <thead>\n",
              "    <tr style=\"text-align: right;\">\n",
              "      <th></th>\n",
              "      <th>Interest_Rate</th>\n",
              "      <th>Unemployment_Rate</th>\n",
              "      <th>Stock_Index_Price</th>\n",
              "    </tr>\n",
              "  </thead>\n",
              "  <tbody>\n",
              "    <tr>\n",
              "      <th>0</th>\n",
              "      <td>1.5</td>\n",
              "      <td>5.8</td>\n",
              "      <td>865.863994</td>\n",
              "    </tr>\n",
              "  </tbody>\n",
              "</table>\n",
              "</div>"
            ],
            "text/plain": [
              "   Interest_Rate  Unemployment_Rate  Stock_Index_Price\n",
              "0            1.5                5.8         865.863994"
            ]
          },
          "metadata": {},
          "execution_count": 80
        }
      ]
    },
    {
      "cell_type": "code",
      "metadata": {
        "colab": {
          "base_uri": "https://localhost:8080/",
          "height": 0
        },
        "id": "JPDzSpdB4Q9v",
        "outputId": "b5229811-3eb0-4c60-e571-9fe5f1017e1d"
      },
      "source": [
        "#performing the performance evaluation of the trained algorithm\n",
        "from sklearn import metrics\n",
        "print(metrics.mean_squared_error(y_predicted,y))\n",
        "print(metrics.mean_absolute_error(y_predicted,y))\n",
        "print(np.sqrt(metrics.mean_squared_error(y_predicted,y)))\n",
        "print(metrics.r2_score(y_predicted, y))"
      ],
      "execution_count": 81,
      "outputs": [
        {
          "output_type": "stream",
          "name": "stdout",
          "text": [
            "4356.611357123124\n",
            "51.77251657344109\n",
            "66.00463133086286\n",
            "0.885959692473784\n"
          ]
        }
      ]
    }
  ]
}
