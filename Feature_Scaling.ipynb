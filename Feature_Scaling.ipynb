{
  "nbformat": 4,
  "nbformat_minor": 0,
  "metadata": {
    "colab": {
      "name": "Feature_Scaling.ipynb",
      "provenance": [],
      "collapsed_sections": [],
      "authorship_tag": "ABX9TyM2QmF0dnGXwsbTY7yIuhgX",
      "include_colab_link": true
    },
    "kernelspec": {
      "name": "python3",
      "display_name": "Python 3"
    },
    "language_info": {
      "name": "python"
    }
  },
  "cells": [
    {
      "cell_type": "markdown",
      "metadata": {
        "id": "view-in-github",
        "colab_type": "text"
      },
      "source": [
        "<a href=\"https://colab.research.google.com/github/navneetk2001/Machine-Learning/blob/master/Feature_Scaling.ipynb\" target=\"_parent\"><img src=\"https://colab.research.google.com/assets/colab-badge.svg\" alt=\"Open In Colab\"/></a>"
      ]
    },
    {
      "cell_type": "code",
      "metadata": {
        "id": "bIqYUVYD26G9"
      },
      "source": [
        "import numpy as np\n",
        "from sklearn import preprocessing"
      ],
      "execution_count": 3,
      "outputs": []
    },
    {
      "cell_type": "code",
      "metadata": {
        "id": "z1vhEIZp3BRy"
      },
      "source": [
        "x= np.array([[1., -1., 2.],\n",
        "             [2., 0., 0.],\n",
        "             [0., 1., -1.]])"
      ],
      "execution_count": 4,
      "outputs": []
    },
    {
      "cell_type": "code",
      "metadata": {
        "colab": {
          "base_uri": "https://localhost:8080/"
        },
        "id": "R58t9YvW3ifE",
        "outputId": "9464198b-3d83-483e-b15e-9935e382865e"
      },
      "source": [
        "x_scaled = preprocessing.scale(x) # scale makes values centres around mean, basically makes mean to be 0 and variance(standard deviation) to be 1\n",
        "x_scaled"
      ],
      "execution_count": 10,
      "outputs": [
        {
          "output_type": "execute_result",
          "data": {
            "text/plain": [
              "array([[ 0.        , -1.22474487,  1.33630621],\n",
              "       [ 1.22474487,  0.        , -0.26726124],\n",
              "       [-1.22474487,  1.22474487, -1.06904497]])"
            ]
          },
          "metadata": {},
          "execution_count": 10
        }
      ]
    },
    {
      "cell_type": "code",
      "metadata": {
        "colab": {
          "base_uri": "https://localhost:8080/"
        },
        "id": "uS1cobM14Aq_",
        "outputId": "dbdcb3cf-c80e-4d52-aee3-b4e445c41c6a"
      },
      "source": [
        "x_scaled.mean(axis = 0)   # mean will be 0"
      ],
      "execution_count": 7,
      "outputs": [
        {
          "output_type": "execute_result",
          "data": {
            "text/plain": [
              "array([0., 0., 0.])"
            ]
          },
          "metadata": {},
          "execution_count": 7
        }
      ]
    },
    {
      "cell_type": "code",
      "metadata": {
        "colab": {
          "base_uri": "https://localhost:8080/"
        },
        "id": "5RP8WSSt4KQf",
        "outputId": "26868db6-3589-4c1f-f571-655d0700789b"
      },
      "source": [
        "x_scaled.std(axis = 0)    # Standard deviation will be 1"
      ],
      "execution_count": 8,
      "outputs": [
        {
          "output_type": "execute_result",
          "data": {
            "text/plain": [
              "array([1., 1., 1.])"
            ]
          },
          "metadata": {},
          "execution_count": 8
        }
      ]
    },
    {
      "cell_type": "code",
      "metadata": {
        "colab": {
          "base_uri": "https://localhost:8080/"
        },
        "id": "K090VOv_4UJK",
        "outputId": "e501952a-6ad9-45db-f019-3363dec59fe3"
      },
      "source": [
        "scaler = preprocessing.StandardScaler()\n",
        "scaler.fit(x)\n",
        "\n",
        "scaler.transform(x)"
      ],
      "execution_count": 9,
      "outputs": [
        {
          "output_type": "execute_result",
          "data": {
            "text/plain": [
              "array([[ 0.        , -1.22474487,  1.33630621],\n",
              "       [ 1.22474487,  0.        , -0.26726124],\n",
              "       [-1.22474487,  1.22474487, -1.06904497]])"
            ]
          },
          "metadata": {},
          "execution_count": 9
        }
      ]
    },
    {
      "cell_type": "code",
      "metadata": {
        "colab": {
          "base_uri": "https://localhost:8080/"
        },
        "id": "OH2yGrh05Yn6",
        "outputId": "62cac1f0-90f9-41b1-be1a-716b432b638d"
      },
      "source": [
        "x_test = [[1, 1, 0]]        # transform testing data using same parameter that you use for training data\n",
        "scaler.transform(x_test)"
      ],
      "execution_count": 11,
      "outputs": [
        {
          "output_type": "execute_result",
          "data": {
            "text/plain": [
              "array([[ 0.        ,  1.22474487, -0.26726124]])"
            ]
          },
          "metadata": {},
          "execution_count": 11
        }
      ]
    },
    {
      "cell_type": "code",
      "metadata": {
        "id": "MvB9bXk95ouK"
      },
      "source": [
        ""
      ],
      "execution_count": null,
      "outputs": []
    }
  ]
}